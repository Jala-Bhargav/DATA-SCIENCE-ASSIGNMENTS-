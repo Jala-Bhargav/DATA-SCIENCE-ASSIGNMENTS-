{
 "cells": [
  {
   "cell_type": "code",
   "execution_count": 1,
   "id": "c8ec6446",
   "metadata": {
    "ExecuteTime": {
     "end_time": "2024-03-13T13:47:31.291901Z",
     "start_time": "2024-03-13T13:47:30.648694Z"
    }
   },
   "outputs": [
    {
     "data": {
      "text/plain": [
       "(21, 2)"
      ]
     },
     "execution_count": 1,
     "metadata": {},
     "output_type": "execute_result"
    }
   ],
   "source": [
    "import numpy as np\n",
    "import pandas as pd \n",
    "df=pd.read_csv('delivery_time.csv')\n",
    "df.shape"
   ]
  },
  {
   "cell_type": "code",
   "execution_count": 2,
   "id": "07cd0f2a",
   "metadata": {
    "ExecuteTime": {
     "end_time": "2024-03-13T13:47:31.334808Z",
     "start_time": "2024-03-13T13:47:31.296377Z"
    }
   },
   "outputs": [
    {
     "data": {
      "text/html": [
       "<div>\n",
       "<style scoped>\n",
       "    .dataframe tbody tr th:only-of-type {\n",
       "        vertical-align: middle;\n",
       "    }\n",
       "\n",
       "    .dataframe tbody tr th {\n",
       "        vertical-align: top;\n",
       "    }\n",
       "\n",
       "    .dataframe thead th {\n",
       "        text-align: right;\n",
       "    }\n",
       "</style>\n",
       "<table border=\"1\" class=\"dataframe\">\n",
       "  <thead>\n",
       "    <tr style=\"text-align: right;\">\n",
       "      <th></th>\n",
       "      <th>Delivery Time</th>\n",
       "      <th>Sorting Time</th>\n",
       "    </tr>\n",
       "  </thead>\n",
       "  <tbody>\n",
       "    <tr>\n",
       "      <th>0</th>\n",
       "      <td>21.00</td>\n",
       "      <td>10</td>\n",
       "    </tr>\n",
       "    <tr>\n",
       "      <th>1</th>\n",
       "      <td>13.50</td>\n",
       "      <td>4</td>\n",
       "    </tr>\n",
       "    <tr>\n",
       "      <th>2</th>\n",
       "      <td>19.75</td>\n",
       "      <td>6</td>\n",
       "    </tr>\n",
       "    <tr>\n",
       "      <th>3</th>\n",
       "      <td>24.00</td>\n",
       "      <td>9</td>\n",
       "    </tr>\n",
       "    <tr>\n",
       "      <th>4</th>\n",
       "      <td>29.00</td>\n",
       "      <td>10</td>\n",
       "    </tr>\n",
       "  </tbody>\n",
       "</table>\n",
       "</div>"
      ],
      "text/plain": [
       "   Delivery Time  Sorting Time\n",
       "0          21.00            10\n",
       "1          13.50             4\n",
       "2          19.75             6\n",
       "3          24.00             9\n",
       "4          29.00            10"
      ]
     },
     "execution_count": 2,
     "metadata": {},
     "output_type": "execute_result"
    }
   ],
   "source": [
    "df.head()"
   ]
  },
  {
   "cell_type": "code",
   "execution_count": 3,
   "id": "651090d1",
   "metadata": {
    "ExecuteTime": {
     "end_time": "2024-03-13T13:47:31.384008Z",
     "start_time": "2024-03-13T13:47:31.342761Z"
    }
   },
   "outputs": [
    {
     "data": {
      "text/html": [
       "<div>\n",
       "<style scoped>\n",
       "    .dataframe tbody tr th:only-of-type {\n",
       "        vertical-align: middle;\n",
       "    }\n",
       "\n",
       "    .dataframe tbody tr th {\n",
       "        vertical-align: top;\n",
       "    }\n",
       "\n",
       "    .dataframe thead th {\n",
       "        text-align: right;\n",
       "    }\n",
       "</style>\n",
       "<table border=\"1\" class=\"dataframe\">\n",
       "  <thead>\n",
       "    <tr style=\"text-align: right;\">\n",
       "      <th></th>\n",
       "      <th>Delivery Time</th>\n",
       "      <th>Sorting Time</th>\n",
       "    </tr>\n",
       "  </thead>\n",
       "  <tbody>\n",
       "    <tr>\n",
       "      <th>count</th>\n",
       "      <td>21.000000</td>\n",
       "      <td>21.000000</td>\n",
       "    </tr>\n",
       "    <tr>\n",
       "      <th>mean</th>\n",
       "      <td>16.790952</td>\n",
       "      <td>6.190476</td>\n",
       "    </tr>\n",
       "    <tr>\n",
       "      <th>std</th>\n",
       "      <td>5.074901</td>\n",
       "      <td>2.542028</td>\n",
       "    </tr>\n",
       "    <tr>\n",
       "      <th>min</th>\n",
       "      <td>8.000000</td>\n",
       "      <td>2.000000</td>\n",
       "    </tr>\n",
       "    <tr>\n",
       "      <th>25%</th>\n",
       "      <td>13.500000</td>\n",
       "      <td>4.000000</td>\n",
       "    </tr>\n",
       "    <tr>\n",
       "      <th>50%</th>\n",
       "      <td>17.830000</td>\n",
       "      <td>6.000000</td>\n",
       "    </tr>\n",
       "    <tr>\n",
       "      <th>75%</th>\n",
       "      <td>19.750000</td>\n",
       "      <td>8.000000</td>\n",
       "    </tr>\n",
       "    <tr>\n",
       "      <th>max</th>\n",
       "      <td>29.000000</td>\n",
       "      <td>10.000000</td>\n",
       "    </tr>\n",
       "  </tbody>\n",
       "</table>\n",
       "</div>"
      ],
      "text/plain": [
       "       Delivery Time  Sorting Time\n",
       "count      21.000000     21.000000\n",
       "mean       16.790952      6.190476\n",
       "std         5.074901      2.542028\n",
       "min         8.000000      2.000000\n",
       "25%        13.500000      4.000000\n",
       "50%        17.830000      6.000000\n",
       "75%        19.750000      8.000000\n",
       "max        29.000000     10.000000"
      ]
     },
     "execution_count": 3,
     "metadata": {},
     "output_type": "execute_result"
    }
   ],
   "source": [
    "df.describe()"
   ]
  },
  {
   "cell_type": "code",
   "execution_count": 4,
   "id": "976eb171",
   "metadata": {
    "ExecuteTime": {
     "end_time": "2024-03-13T13:47:32.777638Z",
     "start_time": "2024-03-13T13:47:31.384236Z"
    }
   },
   "outputs": [
    {
     "data": {
      "image/png": "[encoded data removed]",
      "text/plain": [
       "<Figure size 640x480 with 1 Axes>"
      ]
     },
     "metadata": {},
     "output_type": "display_data"
    }
   ],
   "source": [
    "import matplotlib.pyplot as plt\n",
    "plt.scatter(df[\"Delivery Time\"],df[\"Sorting Time\"])\n",
    "plt.xlabel(\"Sorting Time\")\n",
    "plt.ylabel(\"Delivery Time\")\n",
    "plt.show()"
   ]
  },
  {
   "cell_type": "code",
   "execution_count": 5,
   "id": "08e0a905",
   "metadata": {
    "ExecuteTime": {
     "end_time": "2024-03-13T13:47:32.801762Z",
     "start_time": "2024-03-13T13:47:32.782371Z"
    }
   },
   "outputs": [
    {
     "data": {
      "text/html": [
       "<div>\n",
       "<style scoped>\n",
       "    .dataframe tbody tr th:only-of-type {\n",
       "        vertical-align: middle;\n",
       "    }\n",
       "\n",
       "    .dataframe tbody tr th {\n",
       "        vertical-align: top;\n",
       "    }\n",
       "\n",
       "    .dataframe thead th {\n",
       "        text-align: right;\n",
       "    }\n",
       "</style>\n",
       "<table border=\"1\" class=\"dataframe\">\n",
       "  <thead>\n",
       "    <tr style=\"text-align: right;\">\n",
       "      <th></th>\n",
       "      <th>Delivery Time</th>\n",
       "      <th>Sorting Time</th>\n",
       "    </tr>\n",
       "  </thead>\n",
       "  <tbody>\n",
       "    <tr>\n",
       "      <th>Delivery Time</th>\n",
       "      <td>1.000000</td>\n",
       "      <td>0.825997</td>\n",
       "    </tr>\n",
       "    <tr>\n",
       "      <th>Sorting Time</th>\n",
       "      <td>0.825997</td>\n",
       "      <td>1.000000</td>\n",
       "    </tr>\n",
       "  </tbody>\n",
       "</table>\n",
       "</div>"
      ],
      "text/plain": [
       "               Delivery Time  Sorting Time\n",
       "Delivery Time       1.000000      0.825997\n",
       "Sorting Time        0.825997      1.000000"
      ]
     },
     "execution_count": 5,
     "metadata": {},
     "output_type": "execute_result"
    }
   ],
   "source": [
    "df.corr()"
   ]
  },
  {
   "cell_type": "code",
   "execution_count": 6,
   "id": "6f6ecee2",
   "metadata": {
    "ExecuteTime": {
     "end_time": "2024-03-13T13:47:32.818230Z",
     "start_time": "2024-03-13T13:47:32.803974Z"
    }
   },
   "outputs": [],
   "source": [
    "y=df[[\"Delivery Time\"]]\n",
    "x=df[[\"Sorting Time\"]]"
   ]
  },
  {
   "cell_type": "code",
   "execution_count": 7,
   "id": "77ff31f9",
   "metadata": {
    "ExecuteTime": {
     "end_time": "2024-03-13T13:47:34.177744Z",
     "start_time": "2024-03-13T13:47:32.820765Z"
    }
   },
   "outputs": [],
   "source": [
    "from sklearn.linear_model import LinearRegression\n",
    "LR=LinearRegression()"
   ]
  },
  {
   "cell_type": "code",
   "execution_count": 8,
   "id": "1a51c56d",
   "metadata": {
    "ExecuteTime": {
     "end_time": "2024-03-13T13:47:34.242009Z",
     "start_time": "2024-03-13T13:47:34.182346Z"
    }
   },
   "outputs": [
    {
     "data": {
      "text/html": [
       "<style>#sk-container-id-1 {color: black;background-color: white;}#sk-container-id-1 pre{padding: 0;}#sk-container-id-1 div.sk-toggleable {background-color: white;}#sk-container-id-1 label.sk-toggleable__label {cursor: pointer;display: block;width: 100%;margin-bottom: 0;padding: 0.3em;box-sizing: border-box;text-align: center;}#sk-container-id-1 label.sk-toggleable__label-arrow:before {content: \"▸\";float: left;margin-right: 0.25em;color: #696969;}#sk-container-id-1 label.sk-toggleable__label-arrow:hover:before {color: black;}#sk-container-id-1 div.sk-estimator:hover label.sk-toggleable__label-arrow:before {color: black;}#sk-container-id-1 div.sk-toggleable__content {max-height: 0;max-width: 0;overflow: hidden;text-align: left;background-color: #f0f8ff;}#sk-container-id-1 div.sk-toggleable__content pre {margin: 0.2em;color: black;border-radius: 0.25em;background-color: #f0f8ff;}#sk-container-id-1 input.sk-toggleable__control:checked~div.sk-toggleable__content {max-height: 200px;max-width: 100%;overflow: auto;}#sk-container-id-1 input.sk-toggleable__control:checked~label.sk-toggleable__label-arrow:before {content: \"▾\";}#sk-container-id-1 div.sk-estimator input.sk-toggleable__control:checked~label.sk-toggleable__label {background-color: #d4ebff;}#sk-container-id-1 div.sk-label input.sk-toggleable__control:checked~label.sk-toggleable__label {background-color: #d4ebff;}#sk-container-id-1 input.sk-hidden--visually {border: 0;clip: rect(1px 1px 1px 1px);clip: rect(1px, 1px, 1px, 1px);height: 1px;margin: -1px;overflow: hidden;padding: 0;position: absolute;width: 1px;}#sk-container-id-1 div.sk-estimator {font-family: monospace;background-color: #f0f8ff;border: 1px dotted black;border-radius: 0.25em;box-sizing: border-box;margin-bottom: 0.5em;}#sk-container-id-1 div.sk-estimator:hover {background-color: #d4ebff;}#sk-container-id-1 div.sk-parallel-item::after {content: \"\";width: 100%;border-bottom: 1px solid gray;flex-grow: 1;}#sk-container-id-1 div.sk-label:hover label.sk-toggleable__label {background-color: #d4ebff;}#sk-container-id-1 div.sk-serial::before {content: \"\";position: absolute;border-left: 1px solid gray;box-sizing: border-box;top: 0;bottom: 0;left: 50%;z-index: 0;}#sk-container-id-1 div.sk-serial {display: flex;flex-direction: column;align-items: center;background-color: white;padding-right: 0.2em;padding-left: 0.2em;position: relative;}#sk-container-id-1 div.sk-item {position: relative;z-index: 1;}#sk-container-id-1 div.sk-parallel {display: flex;align-items: stretch;justify-content: center;background-color: white;position: relative;}#sk-container-id-1 div.sk-item::before, #sk-container-id-1 div.sk-parallel-item::before {content: \"\";position: absolute;border-left: 1px solid gray;box-sizing: border-box;top: 0;bottom: 0;left: 50%;z-index: -1;}#sk-container-id-1 div.sk-parallel-item {display: flex;flex-direction: column;z-index: 1;position: relative;background-color: white;}#sk-container-id-1 div.sk-parallel-item:first-child::after {align-self: flex-end;width: 50%;}#sk-container-id-1 div.sk-parallel-item:last-child::after {align-self: flex-start;width: 50%;}#sk-container-id-1 div.sk-parallel-item:only-child::after {width: 0;}#sk-container-id-1 div.sk-dashed-wrapped {border: 1px dashed gray;margin: 0 0.4em 0.5em 0.4em;box-sizing: border-box;padding-bottom: 0.4em;background-color: white;}#sk-container-id-1 div.sk-label label {font-family: monospace;font-weight: bold;display: inline-block;line-height: 1.2em;}#sk-container-id-1 div.sk-label-container {text-align: center;}#sk-container-id-1 div.sk-container {/* jupyter's `normalize.less` sets `[hidden] { display: none; }` but bootstrap.min.css set `[hidden] { display: none !important; }` so we also need the `!important` here to be able to override the default hidden behavior on the sphinx rendered scikit-learn.org. See: https://github.com/scikit-learn/scikit-learn/issues/21755 */display: inline-block !important;position: relative;}#sk-container-id-1 div.sk-text-repr-fallback {display: none;}</style><div id=\"sk-container-id-1\" class=\"sk-top-container\"><div class=\"sk-text-repr-fallback\"><pre>LinearRegression()</pre><b>In a Jupyter environment, please rerun this cell to show the HTML representation or trust the notebook. <br />On GitHub, the HTML representation is unable to render, please try loading this page with nbviewer.org.</b></div><div class=\"sk-container\" hidden><div class=\"sk-item\"><div class=\"sk-estimator sk-toggleable\"><input class=\"sk-toggleable__control sk-hidden--visually\" id=\"sk-estimator-id-1\" type=\"checkbox\" checked><label for=\"sk-estimator-id-1\" class=\"sk-toggleable__label sk-toggleable__label-arrow\">LinearRegression</label><div class=\"sk-toggleable__content\"><pre>LinearRegression()</pre></div></div></div></div></div>"
      ],
      "text/plain": [
       "LinearRegression()"
      ]
     },
     "execution_count": 8,
     "metadata": {},
     "output_type": "execute_result"
    }
   ],
   "source": [
    "LR.fit(x,y)"
   ]
  },
  {
   "cell_type": "code",
   "execution_count": 9,
   "id": "5a221fdf",
   "metadata": {
    "ExecuteTime": {
     "end_time": "2024-03-13T13:47:34.275179Z",
     "start_time": "2024-03-13T13:47:34.250282Z"
    }
   },
   "outputs": [
    {
     "name": "stdout",
     "output_type": "stream",
     "text": [
      "Intercept value: [6.58273397]\n",
      "Coeffient value: [[1.6490199]]\n"
     ]
    }
   ],
   "source": [
    "#B0 \n",
    "print(\"Intercept value:\",LR.intercept_)\n",
    "#B1\n",
    "print(\"Coeffient value:\",LR.coef_)"
   ]
  },
  {
   "cell_type": "code",
   "execution_count": 10,
   "id": "9045ad0f",
   "metadata": {
    "ExecuteTime": {
     "end_time": "2024-03-13T13:47:34.296768Z",
     "start_time": "2024-03-13T13:47:34.279323Z"
    }
   },
   "outputs": [
    {
     "data": {
      "text/plain": [
       "array([[23.07293294],\n",
       "       [13.17881356],\n",
       "       [16.47685335],\n",
       "       [21.42391304],\n",
       "       [23.07293294],\n",
       "       [16.47685335],\n",
       "       [18.12587325],\n",
       "       [11.52979366],\n",
       "       [23.07293294],\n",
       "       [21.42391304],\n",
       "       [19.77489315],\n",
       "       [13.17881356],\n",
       "       [18.12587325],\n",
       "       [11.52979366],\n",
       "       [11.52979366],\n",
       "       [13.17881356],\n",
       "       [16.47685335],\n",
       "       [18.12587325],\n",
       "       [ 9.88077377],\n",
       "       [18.12587325],\n",
       "       [14.82783346]])"
      ]
     },
     "execution_count": 10,
     "metadata": {},
     "output_type": "execute_result"
    }
   ],
   "source": [
    "y_pred=LR.predict(x)\n",
    "y_pred"
   ]
  },
  {
   "cell_type": "code",
   "execution_count": 11,
   "id": "e7df4460",
   "metadata": {
    "ExecuteTime": {
     "end_time": "2024-03-13T13:47:34.312856Z",
     "start_time": "2024-03-13T13:47:34.299786Z"
    }
   },
   "outputs": [
    {
     "data": {
      "text/html": [
       "<div>\n",
       "<style scoped>\n",
       "    .dataframe tbody tr th:only-of-type {\n",
       "        vertical-align: middle;\n",
       "    }\n",
       "\n",
       "    .dataframe tbody tr th {\n",
       "        vertical-align: top;\n",
       "    }\n",
       "\n",
       "    .dataframe thead th {\n",
       "        text-align: right;\n",
       "    }\n",
       "</style>\n",
       "<table border=\"1\" class=\"dataframe\">\n",
       "  <thead>\n",
       "    <tr style=\"text-align: right;\">\n",
       "      <th></th>\n",
       "      <th>Delivery Time</th>\n",
       "    </tr>\n",
       "  </thead>\n",
       "  <tbody>\n",
       "    <tr>\n",
       "      <th>0</th>\n",
       "      <td>21.00</td>\n",
       "    </tr>\n",
       "    <tr>\n",
       "      <th>1</th>\n",
       "      <td>13.50</td>\n",
       "    </tr>\n",
       "    <tr>\n",
       "      <th>2</th>\n",
       "      <td>19.75</td>\n",
       "    </tr>\n",
       "    <tr>\n",
       "      <th>3</th>\n",
       "      <td>24.00</td>\n",
       "    </tr>\n",
       "    <tr>\n",
       "      <th>4</th>\n",
       "      <td>29.00</td>\n",
       "    </tr>\n",
       "    <tr>\n",
       "      <th>5</th>\n",
       "      <td>15.35</td>\n",
       "    </tr>\n",
       "    <tr>\n",
       "      <th>6</th>\n",
       "      <td>19.00</td>\n",
       "    </tr>\n",
       "    <tr>\n",
       "      <th>7</th>\n",
       "      <td>9.50</td>\n",
       "    </tr>\n",
       "    <tr>\n",
       "      <th>8</th>\n",
       "      <td>17.90</td>\n",
       "    </tr>\n",
       "    <tr>\n",
       "      <th>9</th>\n",
       "      <td>18.75</td>\n",
       "    </tr>\n",
       "    <tr>\n",
       "      <th>10</th>\n",
       "      <td>19.83</td>\n",
       "    </tr>\n",
       "    <tr>\n",
       "      <th>11</th>\n",
       "      <td>10.75</td>\n",
       "    </tr>\n",
       "    <tr>\n",
       "      <th>12</th>\n",
       "      <td>16.68</td>\n",
       "    </tr>\n",
       "    <tr>\n",
       "      <th>13</th>\n",
       "      <td>11.50</td>\n",
       "    </tr>\n",
       "    <tr>\n",
       "      <th>14</th>\n",
       "      <td>12.03</td>\n",
       "    </tr>\n",
       "    <tr>\n",
       "      <th>15</th>\n",
       "      <td>14.88</td>\n",
       "    </tr>\n",
       "    <tr>\n",
       "      <th>16</th>\n",
       "      <td>13.75</td>\n",
       "    </tr>\n",
       "    <tr>\n",
       "      <th>17</th>\n",
       "      <td>18.11</td>\n",
       "    </tr>\n",
       "    <tr>\n",
       "      <th>18</th>\n",
       "      <td>8.00</td>\n",
       "    </tr>\n",
       "    <tr>\n",
       "      <th>19</th>\n",
       "      <td>17.83</td>\n",
       "    </tr>\n",
       "    <tr>\n",
       "      <th>20</th>\n",
       "      <td>21.50</td>\n",
       "    </tr>\n",
       "  </tbody>\n",
       "</table>\n",
       "</div>"
      ],
      "text/plain": [
       "    Delivery Time\n",
       "0           21.00\n",
       "1           13.50\n",
       "2           19.75\n",
       "3           24.00\n",
       "4           29.00\n",
       "5           15.35\n",
       "6           19.00\n",
       "7            9.50\n",
       "8           17.90\n",
       "9           18.75\n",
       "10          19.83\n",
       "11          10.75\n",
       "12          16.68\n",
       "13          11.50\n",
       "14          12.03\n",
       "15          14.88\n",
       "16          13.75\n",
       "17          18.11\n",
       "18           8.00\n",
       "19          17.83\n",
       "20          21.50"
      ]
     },
     "execution_count": 11,
     "metadata": {},
     "output_type": "execute_result"
    }
   ],
   "source": [
    "y"
   ]
  },
  {
   "cell_type": "code",
   "execution_count": 12,
   "id": "732fd9a0",
   "metadata": {
    "ExecuteTime": {
     "end_time": "2024-03-13T13:47:34.324823Z",
     "start_time": "2024-03-13T13:47:34.316308Z"
    }
   },
   "outputs": [
    {
     "name": "stdout",
     "output_type": "stream",
     "text": [
      "Mean square error: 7.79\n"
     ]
    }
   ],
   "source": [
    "from sklearn.metrics import mean_squared_error,r2_score\n",
    "mse=mean_squared_error(y,y_pred)\n",
    "print(\"Mean square error:\",mse.round(2))"
   ]
  },
  {
   "cell_type": "code",
   "execution_count": 13,
   "id": "f8bf2c6c",
   "metadata": {
    "ExecuteTime": {
     "end_time": "2024-03-13T13:47:34.335525Z",
     "start_time": "2024-03-13T13:47:34.328360Z"
    }
   },
   "outputs": [
    {
     "name": "stdout",
     "output_type": "stream",
     "text": [
      "Root mean square error: 2.79\n"
     ]
    }
   ],
   "source": [
    "RMSE=np.sqrt(mse)\n",
    "print(\"Root mean square error:\",RMSE.round(2))"
   ]
  },
  {
   "cell_type": "code",
   "execution_count": 21,
   "id": "65ad776a",
   "metadata": {
    "ExecuteTime": {
     "end_time": "2024-03-13T13:51:03.289243Z",
     "start_time": "2024-03-13T13:51:03.273548Z"
    }
   },
   "outputs": [
    {
     "name": "stdout",
     "output_type": "stream",
     "text": [
      "r2 score: 0.68\n"
     ]
    }
   ],
   "source": [
    "r2= r2_score(y,y_pred)\n",
    "print(\"r2 score:\",r2.round(2))"
   ]
  },
  {
   "cell_type": "code",
   "execution_count": 14,
   "id": "fe62d980",
   "metadata": {
    "ExecuteTime": {
     "end_time": "2024-03-13T13:47:34.588099Z",
     "start_time": "2024-03-13T13:47:34.337309Z"
    }
   },
   "outputs": [
    {
     "data": {
      "image/png": "[encoded data removed]",
      "text/plain": [
       "<Figure size 640x480 with 1 Axes>"
      ]
     },
     "metadata": {},
     "output_type": "display_data"
    }
   ],
   "source": [
    "import matplotlib.pyplot as plt\n",
    "plt.scatter(df['Sorting Time'], df['Delivery Time'], color='blue', label='Actual Delivery Time')\n",
    "plt.scatter(df['Sorting Time'],y_pred, color='red', label='Predicted Delivery Time')\n",
    "plt.plot(df['Sorting Time'],y_pred,color=\"black\")\n",
    "plt.xlabel('Sorting Time')\n",
    "plt.ylabel('Delivery Time')\n",
    "plt.title('Actual vs. Predicted Delivery Time')\n",
    "plt.show()"
   ]
  },
  {
   "cell_type": "code",
   "execution_count": 17,
   "id": "819cdadb",
   "metadata": {
    "ExecuteTime": {
     "end_time": "2024-03-13T13:48:28.944767Z",
     "start_time": "2024-03-13T13:48:28.934186Z"
    }
   },
   "outputs": [
    {
     "data": {
      "text/plain": [
       "array([[23.07293294],\n",
       "       [13.17881356],\n",
       "       [16.47685335],\n",
       "       [21.42391304],\n",
       "       [23.07293294],\n",
       "       [16.47685335],\n",
       "       [18.12587325],\n",
       "       [11.52979366],\n",
       "       [23.07293294],\n",
       "       [21.42391304],\n",
       "       [19.77489315],\n",
       "       [13.17881356],\n",
       "       [18.12587325],\n",
       "       [11.52979366],\n",
       "       [11.52979366],\n",
       "       [13.17881356],\n",
       "       [16.47685335],\n",
       "       [18.12587325],\n",
       "       [ 9.88077377],\n",
       "       [18.12587325],\n",
       "       [14.82783346]])"
      ]
     },
     "execution_count": 17,
     "metadata": {},
     "output_type": "execute_result"
    }
   ],
   "source": [
    "y_pred"
   ]
  },
  {
   "cell_type": "code",
   "execution_count": 22,
   "id": "da453c94",
   "metadata": {
    "ExecuteTime": {
     "end_time": "2024-03-13T14:05:32.107307Z",
     "start_time": "2024-03-13T14:05:32.080248Z"
    }
   },
   "outputs": [
    {
     "data": {
      "text/html": [
       "<div>\n",
       "<style scoped>\n",
       "    .dataframe tbody tr th:only-of-type {\n",
       "        vertical-align: middle;\n",
       "    }\n",
       "\n",
       "    .dataframe tbody tr th {\n",
       "        vertical-align: top;\n",
       "    }\n",
       "\n",
       "    .dataframe thead th {\n",
       "        text-align: right;\n",
       "    }\n",
       "</style>\n",
       "<table border=\"1\" class=\"dataframe\">\n",
       "  <thead>\n",
       "    <tr style=\"text-align: right;\">\n",
       "      <th></th>\n",
       "      <th>Sorting Time</th>\n",
       "    </tr>\n",
       "  </thead>\n",
       "  <tbody>\n",
       "    <tr>\n",
       "      <th>0</th>\n",
       "      <td>1.535625</td>\n",
       "    </tr>\n",
       "    <tr>\n",
       "      <th>1</th>\n",
       "      <td>-0.882984</td>\n",
       "    </tr>\n",
       "    <tr>\n",
       "      <th>2</th>\n",
       "      <td>-0.076781</td>\n",
       "    </tr>\n",
       "    <tr>\n",
       "      <th>3</th>\n",
       "      <td>1.132523</td>\n",
       "    </tr>\n",
       "    <tr>\n",
       "      <th>4</th>\n",
       "      <td>1.535625</td>\n",
       "    </tr>\n",
       "  </tbody>\n",
       "</table>\n",
       "</div>"
      ],
      "text/plain": [
       "   Sorting Time\n",
       "0      1.535625\n",
       "1     -0.882984\n",
       "2     -0.076781\n",
       "3      1.132523\n",
       "4      1.535625"
      ]
     },
     "execution_count": 22,
     "metadata": {},
     "output_type": "execute_result"
    }
   ],
   "source": [
    "from sklearn.preprocessing import StandardScaler\n",
    "SS = StandardScaler()\n",
    "SS_x = SS.fit_transform(x)\n",
    "SS_x = pd.DataFrame(SS_x)\n",
    "SS_x.columns = list(x)\n",
    "SS_x.head()"
   ]
  },
  {
   "cell_type": "code",
   "execution_count": 23,
   "id": "21dfd144",
   "metadata": {
    "ExecuteTime": {
     "end_time": "2024-03-13T14:05:48.570919Z",
     "start_time": "2024-03-13T14:05:48.538247Z"
    }
   },
   "outputs": [
    {
     "name": "stdout",
     "output_type": "stream",
     "text": [
      "Training Error:  3.27\n",
      "Testing Error:  1.52\n"
     ]
    }
   ],
   "source": [
    "from sklearn.model_selection import train_test_split\n",
    "X_train,X_test,Y_train,Y_test = train_test_split(SS_x,y, test_size=0.30)\n",
    "\n",
    "# model fitting\n",
    "from sklearn.linear_model import LinearRegression\n",
    "LR = LinearRegression()\n",
    "\n",
    "LR.fit(X_train,Y_train)\n",
    "Y_pred_train = LR.predict(X_train)\n",
    "Y_pred_test = LR.predict(X_test)\n",
    "\n",
    "from sklearn.metrics import mean_squared_error\n",
    "er1 = np.sqrt(mean_squared_error(Y_train,Y_pred_train))\n",
    "er2 = np.sqrt(mean_squared_error(Y_test,Y_pred_test))\n",
    "print(\"Training Error: \", er1.round(2))\n",
    "print(\"Testing Error: \", er2.round(2))"
   ]
  },
  {
   "cell_type": "code",
   "execution_count": 24,
   "id": "6b00644f",
   "metadata": {
    "ExecuteTime": {
     "end_time": "2024-03-13T14:06:44.074579Z",
     "start_time": "2024-03-13T14:06:42.535942Z"
    }
   },
   "outputs": [
    {
     "name": "stdout",
     "output_type": "stream",
     "text": [
      "Cross Validation Training error: 2.69\n",
      "Cross validation Tests error: 3.09\n"
     ]
    }
   ],
   "source": [
    "from sklearn.linear_model import LinearRegression\n",
    "LR = LinearRegression()\n",
    "from sklearn.model_selection import train_test_split\n",
    "\n",
    "training_error = []\n",
    "test_error = []\n",
    "\n",
    "for i in range(1,101):\n",
    "    X_train,X_test,Y_train,Y_test = train_test_split(SS_x,y, test_size = 0.30,random_state = i)\n",
    "    LR.fit(X_train,Y_train)\n",
    "    Y_pred_train = LR.predict(X_train)\n",
    "    Y_pred_test = LR.predict(X_test)\n",
    "    training_error.append(np.sqrt(mean_squared_error(Y_train,Y_pred_train)))\n",
    "    test_error.append(np.sqrt(mean_squared_error(Y_test,Y_pred_test)))\n",
    "    \n",
    "    \n",
    "print(\"Cross Validation Training error:\",np.mean(training_error).round(2))\n",
    "print(\"Cross validation Tests error:\",np.mean(test_error).round(2))"
   ]
  },
  {
   "cell_type": "code",
   "execution_count": 25,
   "id": "ceef2256",
   "metadata": {
    "ExecuteTime": {
     "end_time": "2024-03-13T14:10:01.453852Z",
     "start_time": "2024-03-13T14:10:01.429912Z"
    }
   },
   "outputs": [
    {
     "data": {
      "text/plain": [
       "array([[23.07293294],\n",
       "       [13.17881356],\n",
       "       [16.47685335],\n",
       "       [21.42391304],\n",
       "       [23.07293294],\n",
       "       [16.47685335],\n",
       "       [18.12587325],\n",
       "       [11.52979366],\n",
       "       [23.07293294],\n",
       "       [21.42391304],\n",
       "       [19.77489315],\n",
       "       [13.17881356],\n",
       "       [18.12587325],\n",
       "       [11.52979366],\n",
       "       [11.52979366],\n",
       "       [13.17881356],\n",
       "       [16.47685335],\n",
       "       [18.12587325],\n",
       "       [ 9.88077377],\n",
       "       [18.12587325],\n",
       "       [14.82783346]])"
      ]
     },
     "execution_count": 25,
     "metadata": {},
     "output_type": "execute_result"
    }
   ],
   "source": [
    "y_pred"
   ]
  },
  {
   "cell_type": "code",
   "execution_count": null,
   "id": "86e1ef7a",
   "metadata": {},
   "outputs": [],
   "source": []
  }
 ],
 "metadata": {
  "kernelspec": {
   "display_name": "Python 3 (ipykernel)",
   "language": "python",
   "name": "python3"
  },
  "language_info": {
   "codemirror_mode": {
    "name": "ipython",
    "version": 3
   },
   "file_extension": ".py",
   "mimetype": "text/x-python",
   "name": "python",
   "nbconvert_exporter": "python",
   "pygments_lexer": "ipython3",
   "version": "3.10.9"
  }
 },
 "nbformat": 4,
 "nbformat_minor": 5
}
